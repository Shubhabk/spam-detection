{
 "cells": [
  {
   "cell_type": "markdown",
   "metadata": {},
   "source": [
    "## Fake News Classifier Using LSTM\n",
    "\n",
    "Dataset: https://www.kaggle.com/c/fake-news/data#"
   ]
  },
  {
   "cell_type": "code",
   "execution_count": 1,
   "metadata": {},
   "outputs": [],
   "source": [
    "import pandas as pd"
   ]
  },
  {
   "cell_type": "code",
   "execution_count": 2,
   "metadata": {},
   "outputs": [],
   "source": [
    "df=pd.read_csv('spam.csv', encoding='latin-1')"
   ]
  },
  {
   "cell_type": "code",
   "execution_count": 3,
   "metadata": {},
   "outputs": [
    {
     "data": {
      "text/html": [
       "<div>\n",
       "<style scoped>\n",
       "    .dataframe tbody tr th:only-of-type {\n",
       "        vertical-align: middle;\n",
       "    }\n",
       "\n",
       "    .dataframe tbody tr th {\n",
       "        vertical-align: top;\n",
       "    }\n",
       "\n",
       "    .dataframe thead th {\n",
       "        text-align: right;\n",
       "    }\n",
       "</style>\n",
       "<table border=\"1\" class=\"dataframe\">\n",
       "  <thead>\n",
       "    <tr style=\"text-align: right;\">\n",
       "      <th></th>\n",
       "      <th>v1</th>\n",
       "      <th>v2</th>\n",
       "      <th>Unnamed: 2</th>\n",
       "      <th>Unnamed: 3</th>\n",
       "      <th>Unnamed: 4</th>\n",
       "    </tr>\n",
       "  </thead>\n",
       "  <tbody>\n",
       "    <tr>\n",
       "      <th>0</th>\n",
       "      <td>ham</td>\n",
       "      <td>Go until jurong point, crazy.. Available only ...</td>\n",
       "      <td>NaN</td>\n",
       "      <td>NaN</td>\n",
       "      <td>NaN</td>\n",
       "    </tr>\n",
       "    <tr>\n",
       "      <th>1</th>\n",
       "      <td>ham</td>\n",
       "      <td>Ok lar... Joking wif u oni...</td>\n",
       "      <td>NaN</td>\n",
       "      <td>NaN</td>\n",
       "      <td>NaN</td>\n",
       "    </tr>\n",
       "    <tr>\n",
       "      <th>2</th>\n",
       "      <td>spam</td>\n",
       "      <td>Free entry in 2 a wkly comp to win FA Cup fina...</td>\n",
       "      <td>NaN</td>\n",
       "      <td>NaN</td>\n",
       "      <td>NaN</td>\n",
       "    </tr>\n",
       "    <tr>\n",
       "      <th>3</th>\n",
       "      <td>ham</td>\n",
       "      <td>U dun say so early hor... U c already then say...</td>\n",
       "      <td>NaN</td>\n",
       "      <td>NaN</td>\n",
       "      <td>NaN</td>\n",
       "    </tr>\n",
       "    <tr>\n",
       "      <th>4</th>\n",
       "      <td>ham</td>\n",
       "      <td>Nah I don't think he goes to usf, he lives aro...</td>\n",
       "      <td>NaN</td>\n",
       "      <td>NaN</td>\n",
       "      <td>NaN</td>\n",
       "    </tr>\n",
       "  </tbody>\n",
       "</table>\n",
       "</div>"
      ],
      "text/plain": [
       "     v1                                                 v2 Unnamed: 2  \\\n",
       "0   ham  Go until jurong point, crazy.. Available only ...        NaN   \n",
       "1   ham                      Ok lar... Joking wif u oni...        NaN   \n",
       "2  spam  Free entry in 2 a wkly comp to win FA Cup fina...        NaN   \n",
       "3   ham  U dun say so early hor... U c already then say...        NaN   \n",
       "4   ham  Nah I don't think he goes to usf, he lives aro...        NaN   \n",
       "\n",
       "  Unnamed: 3 Unnamed: 4  \n",
       "0        NaN        NaN  \n",
       "1        NaN        NaN  \n",
       "2        NaN        NaN  \n",
       "3        NaN        NaN  \n",
       "4        NaN        NaN  "
      ]
     },
     "execution_count": 3,
     "metadata": {},
     "output_type": "execute_result"
    }
   ],
   "source": [
    "df.head()"
   ]
  },
  {
   "cell_type": "code",
   "execution_count": 4,
   "metadata": {},
   "outputs": [],
   "source": [
    "###Drop Nan Values\n",
    "df.drop([\"Unnamed: 2\", \"Unnamed: 3\", \"Unnamed: 4\"], axis=1, inplace=True)\n"
   ]
  },
  {
   "cell_type": "code",
   "execution_count": 5,
   "metadata": {},
   "outputs": [
    {
     "data": {
      "text/html": [
       "<div>\n",
       "<style scoped>\n",
       "    .dataframe tbody tr th:only-of-type {\n",
       "        vertical-align: middle;\n",
       "    }\n",
       "\n",
       "    .dataframe tbody tr th {\n",
       "        vertical-align: top;\n",
       "    }\n",
       "\n",
       "    .dataframe thead th {\n",
       "        text-align: right;\n",
       "    }\n",
       "</style>\n",
       "<table border=\"1\" class=\"dataframe\">\n",
       "  <thead>\n",
       "    <tr style=\"text-align: right;\">\n",
       "      <th></th>\n",
       "      <th>label</th>\n",
       "      <th>Tweet</th>\n",
       "    </tr>\n",
       "  </thead>\n",
       "  <tbody>\n",
       "    <tr>\n",
       "      <th>0</th>\n",
       "      <td>ham</td>\n",
       "      <td>Go until jurong point, crazy.. Available only ...</td>\n",
       "    </tr>\n",
       "    <tr>\n",
       "      <th>1</th>\n",
       "      <td>ham</td>\n",
       "      <td>Ok lar... Joking wif u oni...</td>\n",
       "    </tr>\n",
       "    <tr>\n",
       "      <th>2</th>\n",
       "      <td>spam</td>\n",
       "      <td>Free entry in 2 a wkly comp to win FA Cup fina...</td>\n",
       "    </tr>\n",
       "    <tr>\n",
       "      <th>3</th>\n",
       "      <td>ham</td>\n",
       "      <td>U dun say so early hor... U c already then say...</td>\n",
       "    </tr>\n",
       "    <tr>\n",
       "      <th>4</th>\n",
       "      <td>ham</td>\n",
       "      <td>Nah I don't think he goes to usf, he lives aro...</td>\n",
       "    </tr>\n",
       "  </tbody>\n",
       "</table>\n",
       "</div>"
      ],
      "text/plain": [
       "  label                                              Tweet\n",
       "0   ham  Go until jurong point, crazy.. Available only ...\n",
       "1   ham                      Ok lar... Joking wif u oni...\n",
       "2  spam  Free entry in 2 a wkly comp to win FA Cup fina...\n",
       "3   ham  U dun say so early hor... U c already then say...\n",
       "4   ham  Nah I don't think he goes to usf, he lives aro..."
      ]
     },
     "execution_count": 5,
     "metadata": {},
     "output_type": "execute_result"
    }
   ],
   "source": [
    "## Get the Independent Features\n",
    "\n",
    "df.columns = [\"label\",\"Tweet\"]\n",
    "df.head()"
   ]
  },
  {
   "cell_type": "code",
   "execution_count": 6,
   "metadata": {},
   "outputs": [],
   "source": [
    "X = df.drop('label', axis=1)"
   ]
  },
  {
   "cell_type": "code",
   "execution_count": 7,
   "metadata": {},
   "outputs": [],
   "source": [
    "## Get the Dependent features\n",
    "y=df['label']"
   ]
  },
  {
   "cell_type": "code",
   "execution_count": 8,
   "metadata": {},
   "outputs": [
    {
     "data": {
      "text/plain": [
       "(5572, 1)"
      ]
     },
     "execution_count": 8,
     "metadata": {},
     "output_type": "execute_result"
    }
   ],
   "source": [
    "X.shape"
   ]
  },
  {
   "cell_type": "code",
   "execution_count": 9,
   "metadata": {},
   "outputs": [
    {
     "data": {
      "text/plain": [
       "(5572,)"
      ]
     },
     "execution_count": 9,
     "metadata": {},
     "output_type": "execute_result"
    }
   ],
   "source": [
    "y.shape"
   ]
  },
  {
   "cell_type": "code",
   "execution_count": 10,
   "metadata": {},
   "outputs": [],
   "source": [
    "import tensorflow as tf"
   ]
  },
  {
   "cell_type": "code",
   "execution_count": 11,
   "metadata": {},
   "outputs": [
    {
     "data": {
      "text/plain": [
       "'2.3.0'"
      ]
     },
     "execution_count": 11,
     "metadata": {},
     "output_type": "execute_result"
    }
   ],
   "source": [
    "tf.__version__"
   ]
  },
  {
   "cell_type": "code",
   "execution_count": 12,
   "metadata": {},
   "outputs": [],
   "source": [
    "from tensorflow.keras.layers import Embedding\n",
    "from tensorflow.keras.preprocessing.sequence import pad_sequences\n",
    "from tensorflow.keras.models import Sequential\n",
    "from tensorflow.keras.preprocessing.text import one_hot\n",
    "from tensorflow.keras.layers import LSTM,Bidirectional,Dropout\n",
    "from tensorflow.keras.layers import Dense"
   ]
  },
  {
   "cell_type": "code",
   "execution_count": 13,
   "metadata": {},
   "outputs": [],
   "source": [
    "### Vocabulary size\n",
    "voc_size=1000"
   ]
  },
  {
   "cell_type": "markdown",
   "metadata": {},
   "source": [
    "### Onehot Representation"
   ]
  },
  {
   "cell_type": "code",
   "execution_count": 14,
   "metadata": {},
   "outputs": [],
   "source": [
    "messages=X.copy()"
   ]
  },
  {
   "cell_type": "code",
   "execution_count": 15,
   "metadata": {},
   "outputs": [
    {
     "data": {
      "text/plain": [
       "'Ok lar... Joking wif u oni...'"
      ]
     },
     "execution_count": 15,
     "metadata": {},
     "output_type": "execute_result"
    }
   ],
   "source": [
    "messages['Tweet'][1]"
   ]
  },
  {
   "cell_type": "code",
   "execution_count": 16,
   "metadata": {},
   "outputs": [],
   "source": [
    "messages.reset_index(inplace=True)"
   ]
  },
  {
   "cell_type": "code",
   "execution_count": 17,
   "metadata": {},
   "outputs": [],
   "source": [
    "import nltk\n",
    "import re\n",
    "from nltk.corpus import stopwords"
   ]
  },
  {
   "cell_type": "code",
   "execution_count": 18,
   "metadata": {},
   "outputs": [
    {
     "name": "stderr",
     "output_type": "stream",
     "text": [
      "[nltk_data] Downloading package stopwords to\n",
      "[nltk_data]     C:\\Users\\shubhabk\\AppData\\Roaming\\nltk_data...\n",
      "[nltk_data]   Package stopwords is already up-to-date!\n",
      "[nltk_data] Downloading package wordnet to\n",
      "[nltk_data]     C:\\Users\\shubhabk\\AppData\\Roaming\\nltk_data...\n",
      "[nltk_data]   Package wordnet is already up-to-date!\n"
     ]
    },
    {
     "data": {
      "text/plain": [
       "True"
      ]
     },
     "execution_count": 18,
     "metadata": {},
     "output_type": "execute_result"
    }
   ],
   "source": [
    "nltk.download('stopwords')\n",
    "nltk.download('wordnet')"
   ]
  },
  {
   "cell_type": "code",
   "execution_count": 19,
   "metadata": {},
   "outputs": [],
   "source": [
    "from nltk.stem import WordNetLemmatizer\n",
    "import contractions"
   ]
  },
  {
   "cell_type": "code",
   "execution_count": 20,
   "metadata": {},
   "outputs": [],
   "source": [
    "### Dataset Preprocessing\n",
    "def process(news):\n",
    "    lem = WordNetLemmatizer()\n",
    "    sms = contractions.fix(news) \n",
    "    sms = sms.lower()\n",
    "    sms = re.sub(r'https?://S+|www.S+', \"\", sms).strip() #removing url\n",
    "    sms = re.sub(\"[^a-z ]\", \"\", sms) # removing symbols and numbes\n",
    "    sms = sms.split() \n",
    "    sms = [lem.lemmatize(word) for word in sms if not word in set(stopwords.words(\"english\"))]\n",
    "    sms = \" \".join(sms)\n",
    "    return sms"
   ]
  },
  {
   "cell_type": "code",
   "execution_count": 21,
   "metadata": {},
   "outputs": [
    {
     "data": {
      "text/plain": [
       "['go jurong point crazy available bugis n great world la e buffet cine got amore wat',\n",
       " 'ok lar joking wif oni',\n",
       " 'free entry wkly comp win fa cup final tkts st may text fa receive entry questionstd txt ratetcs apply over',\n",
       " 'dun say early hor c already say',\n",
       " 'nah think go usf life around though',\n",
       " 'freemsg hey darling week word back would like fun still tb ok xxx std chgs send rcv',\n",
       " 'even brother like speak treat like aid patent',\n",
       " 'per request melle melle oru minnaminunginte nurungu vettam set callertune caller press copy friend callertune',\n",
       " 'winner valued network customer selected receivea prize reward claim call claim code kl valid hour',\n",
       " 'mobile month r entitled update latest colour mobile camera free call mobile update co free',\n",
       " 'going home soon want talk stuff anymore tonight k cried enough today',\n",
       " 'six chance win cash pound txt csh send cost pday day tsandcs apply reply hl info',\n",
       " 'urgent week free membership prize jackpot txt word claim tc wwwdbuknet lccltd pobox ldnwarw',\n",
       " 'searching right word thank breather promise take help granted fulfil promise wonderful blessing time',\n",
       " 'date sunday',\n",
       " 'xxxmobilemovieclub use credit click wap link next txt message click httpwap xxxmobilemovieclubcomnqjkgighjjgcbl',\n",
       " 'oh ki watching',\n",
       " 'eh remember spell name yes v naughty make v wet',\n",
       " 'fine thats way feel thats way gota b',\n",
       " 'england v macedonia miss goalsteam news txt ur national team eg england trywales scotland txt poboxoxwwq',\n",
       " 'seriously spell name',\n",
       " 'im going try month ha ha joking',\n",
       " 'pay first lar da stock comin',\n",
       " 'aft finish lunch go str lor ard smth lor finish ur lunch already',\n",
       " 'ffffffffff alright way meet sooner',\n",
       " 'forced eat slice really hungry tho suck mark getting worried know sick turn pizza lol',\n",
       " 'lol always convincing',\n",
       " 'catch bus frying egg make tea eating mom left dinner feel love',\n",
       " 'back amp packing car let know room',\n",
       " 'ahhh work vaguely remember feel like lol',\n",
       " 'wait still clear sure sarcastic x want live u',\n",
       " 'yeah got v apologetic n fallen actin like spoilt child got caught till go badly cheer',\n",
       " 'k tell anything',\n",
       " 'fear fainting housework quick cuppa',\n",
       " 'thanks subscription ringtone uk mobile charged month please confirm replying yes reply charged',\n",
       " 'yup ok go home look timing msg xuhui going learn nd may lesson',\n",
       " 'oops let know roommate done',\n",
       " 'see letter b car',\n",
       " 'anything lor decide',\n",
       " 'hello saturday go texting see would decided anything tomo trying invite anything',\n",
       " 'pls go ahead watt wanted sure great weekend abiola',\n",
       " 'forget tell want need crave love sweet arabian steed mmmmmm yummy',\n",
       " 'rodger burn msg tried call reply sm free nokia mobile free camcorder please call delivery tomorrow',\n",
       " 'seeing',\n",
       " 'great hope like man well endowed ltgt inch',\n",
       " 'callsmessagesmissed call',\n",
       " 'get hep b immunisation nigeria',\n",
       " 'fair enough anything going',\n",
       " 'yeah hopefully tyler could maybe ask around bit',\n",
       " 'know stubborn even want go hospital kept telling mark weak sucker hospital weak sucker',\n",
       " 'thinked first time saw class',\n",
       " 'gram usually run like ltgt half eighth smarter though get almost whole second gram ltgt',\n",
       " 'k fyi x ride early tomorrow morning crashing place tonight',\n",
       " 'wow never realized embarassed accomodations thought liked since best could always seemed happy cave sorry give sorry offered sorry room embarassing',\n",
       " 'sm ac sptv new jersey devil detroit red wing play ice hockey correct incorrect end reply end sptv',\n",
       " 'know mallika sherawat yesterday find lturlgt',\n",
       " 'congrats year special cinema pas call c suprman v matrix starwars etc free bxipwe pm miss',\n",
       " 'sorry call later meeting',\n",
       " 'tell reached',\n",
       " 'yesgauti sehwag odi series',\n",
       " 'going pick burger way home even move pain killing',\n",
       " 'ha ha ha good joke girl situation seeker',\n",
       " 'part checking iq',\n",
       " 'sorry roommate took forever ok come',\n",
       " 'ok lar double check wif da hair dresser already said wun cut v short said cut look nice',\n",
       " 'valued customer pleased advise following recent review mob awarded bonus prize call',\n",
       " 'today song dedicated day song dedicate send ur valuable frnds first rply',\n",
       " 'urgent ur awarded complimentary trip eurodisinc trav acoentry claim txt dis morefrmmob shracomorsglsuplt l aj',\n",
       " 'hear new divorce barbie come ken stuff',\n",
       " 'plane give month end',\n",
       " 'wah lucky man save money hee',\n",
       " 'finished class',\n",
       " 'hi babe home want something xx',\n",
       " 'kkwhere youhow performed',\n",
       " 'call',\n",
       " 'waiting machan call free',\n",
       " 'cool gentleman treat dignity respect',\n",
       " 'like people much shy pa',\n",
       " 'operate ltgt',\n",
       " 'still looking job much ta earn',\n",
       " 'sorry call later',\n",
       " 'k call ah',\n",
       " 'ok way home hi hi',\n",
       " 'place man',\n",
       " 'yup next stop',\n",
       " 'call later network urgnt sm',\n",
       " 'real getting yo need ticket one jacket done already used multis',\n",
       " 'yes started send request make pain came back back bed double coin factory got cash nitros',\n",
       " 'really still tonight babe',\n",
       " 'ela kanoil download come wen ur free',\n",
       " 'yeah dont stand close tho youll catch something',\n",
       " 'sorry pain ok meet another night spent late afternoon casualty mean done stuffmoro includes time sheet sorry',\n",
       " 'smile pleasure smile pain smile trouble pours like rain smile sum hurt smile becoz someone still love see smiling',\n",
       " 'please call customer service representative ampm guaranteed cash prize',\n",
       " 'planning buy later check already lido got show e afternoon finish work already',\n",
       " 'free ringtone waiting collected simply text password mix verify get usher britney fml',\n",
       " 'watching telugu moviewat abt',\n",
       " 'see finish load loan pay',\n",
       " 'hi wk ok hols yes bit run forgot hairdresser appointment four need get home n shower beforehand prob youham',\n",
       " 'please text anymore nothing else say',\n",
       " 'okay name ur price long legal wen pick ave x am xx',\n",
       " 'still looking car buy gone driving test yet',\n",
       " 'per request melle melle oru minnaminunginte nurungu vettam set callertune caller press copy friend callertune',\n",
       " 'wow right mean guess gave boston men changed search location nyc something changed cuz signin page still say boston',\n",
       " 'umma life vava umma love lot dear',\n",
       " 'thanks lot wish birthday thanks making birthday truly memorable',\n",
       " 'aight hit get cash',\n",
       " 'would ip address test considering computer minecraft server',\n",
       " 'know grumpy old people mom like better lying always one play joke',\n",
       " 'worry guess busy',\n",
       " 'plural noun research',\n",
       " 'going dinnermsg',\n",
       " 'ok wif co like try new thing scared dun like mah co said loud',\n",
       " 'gent trying contact last weekend draw show prize guaranteed call claim code k valid hr ppm',\n",
       " 'wa ur openin sentence formal anyway fine juz tt eatin much n puttin weighthaha anythin special happened',\n",
       " 'entered cabin pa said happy bday bos felt special askd lunch lunch invited apartment went',\n",
       " 'winner specially selected receive holiday flight inc speak live operator claim pmin',\n",
       " 'goodo yes must speak friday eggpotato ratio tortilla needed',\n",
       " 'hmmmy uncle informed paying school directly pls buy food',\n",
       " 'private account statement show unredeemed bonus point claim call identifier code expires',\n",
       " 'urgent mobile awarded bonus caller prize final try contact call landline boxwrc ppm',\n",
       " 'new address applespairsall malarky',\n",
       " 'today voda number ending selected receive award match please call quoting claim code standard rate app',\n",
       " 'going sao mu today done',\n",
       " 'predict wat time finish buying',\n",
       " 'good stuff',\n",
       " 'knowyetunde sent money yet sent text bother sending involve anything imposed anything first place apologise',\n",
       " 'room',\n",
       " 'hey girl r hope r well del r bak long time c give call sum time lucyxx',\n",
       " 'kkhow much cost',\n",
       " 'home',\n",
       " 'dear call tmorrowpls accomodate',\n",
       " 'first answer question',\n",
       " 'sunshine quiz wkly q win top sony dvd player know country algarve txt ansr sptyrone',\n",
       " 'want get laid tonight want real dogging location sent direct ur mob join uk largest dogging network bt txting gravel nt eca pmsgp',\n",
       " 'haf msn yijuehotmailcom',\n",
       " 'call meet',\n",
       " 'check room befor activity',\n",
       " 'rcv msg chat svc free hardcore service text go get nothing must age verify yr network try',\n",
       " 'got c lazy type forgot lect saw pouch like v nice',\n",
       " 'k text way',\n",
       " 'sir waiting mail',\n",
       " 'swt thought nver get tired little thing lovable person cozsomtimes little thing occupy biggest part heart gud ni',\n",
       " 'know pls open back',\n",
       " 'yes see ya dot',\n",
       " 'staff name taking class u',\n",
       " 'freemsg replied text randy sexy female live local love hear netcollex ltd p per msg reply stop end',\n",
       " 'ummmawill call check inour life begin qatar pls pray hard',\n",
       " 'ki deleted contact',\n",
       " 'sindu got job birla soft',\n",
       " 'wine flowing nevering',\n",
       " 'yup thk cine better co need go plaza mah',\n",
       " 'ok ur typical reply',\n",
       " 'per request melle melle oru minnaminunginte nurungu vettam set callertune caller press copy friend callertune',\n",
       " 'everywhere dirt floor window even shirt sometimes open mouth come flowing dream world without half chore time joy lot tv show ill see guess like thing must exist like rain hail mist time done become one',\n",
       " 'aaooooright work',\n",
       " 'leaving house',\n",
       " 'hello love get interview today happy good boy think meare missing',\n",
       " 'customer service annoncement new year delivery waiting please call arrange delivery',\n",
       " 'winner specially selected receive cash holiday flight inc speak live operator claim',\n",
       " 'keep safe need miss already envy everyone see real life',\n",
       " 'new car house parentsi new job hand',\n",
       " 'love excited day spend make happy',\n",
       " 'pls stop bootydelious f inviting friend reply yes see wwwsmsacyoubootydelious stop send stop frnd',\n",
       " 'bangbabes ur order way receive service msg download ur content goto wap bangb tv ur mobile internetservice menu',\n",
       " 'place ur point e culture module already',\n",
       " 'urgent trying contact last weekend draw show prize guaranteed call claim code valid hr',\n",
       " 'hi frnd best way avoid missunderstding wit beloved one',\n",
       " 'great escape fancy bridge need lager see tomo',\n",
       " 'yes completely formclark also utter waste',\n",
       " 'sir need axis bank account bank address',\n",
       " 'hmmm thk sure got time hop ard ya go free abt muz call discus liao',\n",
       " 'time coming later',\n",
       " 'bloody hell believe forgot surname mr ill give clue spanish begin',\n",
       " 'well going finish bath goodfine night',\n",
       " 'let know got money carlos make call',\n",
       " 'still going mall',\n",
       " 'turn friend staying whole show back til ltgt feel free go ahead smoke ltgt worth',\n",
       " 'text reply let know log',\n",
       " 'hi spoke maneesha v would like know satisfied experience reply toll free yes',\n",
       " 'lifted hope offer money need especially end month approach hurt studying anyways gr weekend',\n",
       " 'lol trust',\n",
       " 'ok gentleman treat dignity respect',\n",
       " 'guy close',\n",
       " 'going nothing greatbye',\n",
       " 'hello handsome finding job lazy working towards getting back net mummy boytoy miss',\n",
       " 'haha awesome minute',\n",
       " 'please call customer service representative freephone ampm guaranteed cash prize',\n",
       " 'got xmas radio time get',\n",
       " 'jus reached home go bathe first si using net tell finish k',\n",
       " 'unique enough find th august wwwareyouuniquecouk',\n",
       " 'sorry joined league people keep touch mean great deal friend time even great personal cost great week',\n",
       " 'hi finally completed course',\n",
       " 'stop however suggest stay someone able give or every stool',\n",
       " 'hope settled new school year wishin gr day',\n",
       " 'gud mrng dear hav nice day',\n",
       " 'got person story',\n",
       " 'hamster dead hey tmr meet pm orchard mrt',\n",
       " 'hi kate evening hope see tomorrow bit bloody babyjontet txt back xxx',\n",
       " 'found enc ltgt',\n",
       " 'sent ltgt buck',\n",
       " 'hello darlin finished college txt finish love kate xxx',\n",
       " 'account refilled successfully inr ltdecimalgt keralacircle prepaid account balance r ltdecimalgt transaction id kr ltgt',\n",
       " 'goodmorning sleeping ga',\n",
       " 'call alter ok',\n",
       " 'say like dat dun buy ericsson oso cannot oredi lar',\n",
       " 'entered cabin pa said happy bday bos felt special askd lunch lunch invited apartment went',\n",
       " 'aight yo dat straight dogg',\n",
       " 'please give u connection today ltdecimalgt refund bill',\n",
       " 'shoot big load get ready',\n",
       " 'bruv hope great break rewarding semester',\n",
       " 'home always chat',\n",
       " 'kkgoodstudy well',\n",
       " 'yup noe leh',\n",
       " 'sound great home',\n",
       " 'finally match heading towards draw prediction',\n",
       " 'tired slept well past night',\n",
       " 'easy ahsen got selected mean good',\n",
       " 'take exam march',\n",
       " 'yeah think use gt atm register sure anyway help let know sure ready',\n",
       " 'ok prob take ur time',\n",
       " 'o called ubandu run without installing hard diskyou use o copy important file system give repair shop',\n",
       " 'sorry call later',\n",
       " 'say leh course nothing happen lar say v romantic jus bit lor thk e nite scenery nice leh',\n",
       " 'new mobile must go txt nokia collect todayfrom wwwtcbiz optout gbpmtmsg',\n",
       " 'would really appreciate call need someone talk',\n",
       " 'meet ur dream partner soon ur career flyng start find free txt horo followed ur star sign e g horo aries',\n",
       " 'hey company elama po mudyadhu',\n",
       " 'life strict teacher bcoz teacher teach lesson amp conduct exam life first conduct exam amp teach lesson happy morning',\n",
       " 'dear good morning',\n",
       " 'get gandhipuram walk cross cut road right side ltgt street road turn first right',\n",
       " 'dear going rubber place',\n",
       " 'sorry battery died yeah',\n",
       " 'yeshere tv always available work place',\n",
       " 'text meet someone sexy today find date even flirt join p reply name age eg sam msg recdthirtyeight penny',\n",
       " 'printed oh ltgt come upstairs',\n",
       " 'ill little closer like bus stop street',\n",
       " 'youwhen wil reach',\n",
       " 'new theory argument win situation loses person argue ur friend kick amp say always correct',\n",
       " 'secret admirer looking make contact youfind rreveal think ur specialcall',\n",
       " 'tomarrow final hearing laptop case',\n",
       " 'pleassssssseeeeee tel v avent done sportsx',\n",
       " 'okay shining meant signing sound better',\n",
       " 'although told dat baig face watch really like e watch gave co fr thanx everything dat youve done today touched',\n",
       " 'remember old commercial',\n",
       " 'late said website slipper',\n",
       " 'asked call ok',\n",
       " 'kallis bat nd inning',\n",
       " 'work oh ok goodnight ill fix ready time wake dearly missed good night sleep',\n",
       " 'congratulation ur awarded cd voucher gift guaranteed free entry wkly draw txt music tncs wwwldewcomwinppmxage',\n",
       " 'ranjith cal drpd deeraj deepak min hold',\n",
       " 'wen ur lovable bcums angry wid dnt take seriously coz angry childish n true way showing deep affection care n love kettoda manda nice day da',\n",
       " 'doinghow',\n",
       " 'ups day also shipping company take wks way usps take week get lag may bribe nipost get stuff',\n",
       " 'back lemme know ready',\n",
       " 'necessarily expect done get back though headin',\n",
       " 'mmm yummy babe nice jolt suzy',\n",
       " 'lover need',\n",
       " 'tried contact reply offer video handset anytime network min unlimited text camcorder reply call',\n",
       " 'im parked next mini coming today think',\n",
       " 'yup',\n",
       " 'anyway going shopping co si done yet dun disturb liao',\n",
       " 'luton ring ur around h',\n",
       " 'hey really horny want chat see naked text hot text charged pm unsubscribe text stop',\n",
       " 'dint come u',\n",
       " 'wana plan trip sometme',\n",
       " 'sure yet still trying get hold',\n",
       " 'ur ringtone service changed free credit go clubmobilescom choose content stop txt club stop pwk club po box mk wt',\n",
       " 'evo download flash jealous',\n",
       " 'ringtone club get uk single chart mobile week choose top quality ringtone message free charge',\n",
       " 'come mu sorting narcotic situation',\n",
       " 'night ended another day morning come special way may smile like sunny ray leaf worry blue blue bay',\n",
       " 'hmv bonus special pound genuine hmv voucher answer easy question play send hmv infowwwpercentrealcom',\n",
       " 'usf guess might well take car',\n",
       " 'objection bf coming',\n",
       " 'thanx',\n",
       " 'tell rob mack gf theater',\n",
       " 'awesome see bit',\n",
       " 'sent type food like',\n",
       " 'done handed celebration full swing yet',\n",
       " 'got called tool',\n",
       " 'wen miss someone',\n",
       " 'ok asked money far',\n",
       " 'okie',\n",
       " 'yeah think usual guy still passed last night get ahold anybody let know throw',\n",
       " 'k might come tonight class let u early',\n",
       " 'ok',\n",
       " 'hi baby cruisin girl friend r give call hour home alright fone fone love jenny xxx',\n",
       " 'life mean lot love life love people life world call friend call world ge',\n",
       " 'dearshall mail tonitebusy streetshall update tonitethings looking okvarunnathu edukkukayee raksha ollubut good one real sense',\n",
       " 'hey told name gautham ah',\n",
       " 'haf found feel stupid da v cam working',\n",
       " 'oops got bit',\n",
       " 'much buzy',\n",
       " 'accidentally deleted message resend please',\n",
       " 'tmobile customer may claim free camera phone upgrade pay go sim card loyalty call offer end thfebtcs apply',\n",
       " 'unless situation go gurl would appropriate',\n",
       " 'hurt tease make cry end life die plz keep one rose grave say stupid miss nice day bslvyl',\n",
       " 'pick phone right pls send message',\n",
       " 'need coffee run tomocan believe time week already',\n",
       " 'awesome remember last time got somebody high first time diesel v',\n",
       " 'shit really shocking scary imagine second def night think somewhere could crash night save taxi',\n",
       " 'oh way food fridge want go meal tonight',\n",
       " 'womdarfull actor',\n",
       " 'sm ac blind date u rodds aberdeen united kingdom check httpimg sm acwicmbcktzr blind date send hide',\n",
       " 'yup remb think book',\n",
       " 'jos ask wana meet',\n",
       " 'lol yes friendship hanging thread buy stuff',\n",
       " 'themob check newest selection content game tone gossip babe sport keep mobile fit funky text wap',\n",
       " 'garage key bookshelf',\n",
       " 'today accept dayyou accept brother sister lover dear best clos lvblefrnd jstfrnd cutefrnd lifpartnr belovd swtheart bstfrnd rply mean enemy',\n",
       " 'think ur smart win week weekly quiz text play nowtcs winnersclub po box uz gbpweek',\n",
       " 'say give call friend got money definitely buying end week',\n",
       " 'hi way day normal waythis real ur uniquei hope know rest mylife hope find wot lost',\n",
       " 'made day great day',\n",
       " 'kkadvance happy pongal',\n",
       " 'hmmm guess go kb n power yoga haha dunno tahan power yoga anot thk got lo oso forgot liao',\n",
       " 'really dude friend afraid',\n",
       " 'december mobile mths entitled update latest colour camera mobile free call mobile update co free',\n",
       " 'coffee cake guess',\n",
       " 'merry christmas babe love ya kiss',\n",
       " 'hey go watch x men lunch haha',\n",
       " 'cud tell ppl gona b bit l co bus hav gon past co full still waitin pete x',\n",
       " 'would great guild could meet bristol road somewhere get touch weekend plan take flight good week',\n",
       " 'problem',\n",
       " 'callsmessagesmissed call',\n",
       " 'hi dahow today class',\n",
       " 'would say good sign well know track record reading woman',\n",
       " 'cool text parked',\n",
       " 'reading text sent meant joke read light',\n",
       " 'kkapo kgood movie',\n",
       " 'maybe could get book tomo return immediately something',\n",
       " 'call germany penny per minute call fixed line via access number prepayment direct access',\n",
       " 'chance might evaporated soon violated privacy stealing phone number employer paperwork cool please contact report supervisor',\n",
       " 'valentine day special win quiz take partner trip lifetime send go pmsg rcvd custcare',\n",
       " 'tadaaaaa home babe still',\n",
       " 'cool come wined dined',\n",
       " 'sleepingand surfing',\n",
       " 'sorry call later',\n",
       " 'calling right call hand phone',\n",
       " 'ok great thanx lot',\n",
       " 'take post come must text happy reading one wiv hello caroline end favourite bless',\n",
       " 'hiding stranger',\n",
       " 'interested like',\n",
       " 'sister cleared two round birla soft yesterday',\n",
       " 'gudnitetcpractice going',\n",
       " 'dis yijue jus saw ur mail case huiming sent num dis num',\n",
       " 'one small prestige problem',\n",
       " 'fancy shag dointerested sextextukcom txt xxuk suzy txts cost per msg tncs website x',\n",
       " 'checking really miss seeing jeremiah great month',\n",
       " 'nah help never iphone',\n",
       " 'car hour half going apeshit',\n",
       " 'today sorry day ever angry ever misbehaved hurt plz plz slap urself bcoz ur fault basically good',\n",
       " 'yo guy ever figure much need alcohol jay trying figure much safely spend weed',\n",
       " 'ltgt ish minute minute ago wtf',\n",
       " 'thank callingforgot say happy onam sirjii fine remembered met insurance personmeet qatar insha allahrakhesh ex tata aig joined tisscotayseer',\n",
       " 'congratulation ur awarded cd voucher gift guaranteed free entry wkly draw txt music tncs wwwldewcomwinppmxage',\n",
       " 'ur cashbalance currently pound maximize ur cashin send cash pmsg cc hgsuitelands rowwjhl',\n",
       " 'actor work work evening sleep late since unemployed moment always sleep late unemployed every day saturday',\n",
       " 'hello got st andrewsboy long way cold keep posted',\n",
       " 'ha ha cool cool chikku chikkudb',\n",
       " 'oh ok prob',\n",
       " 'check audreys status right',\n",
       " 'busy trying finish new year looking forward finally meeting',\n",
       " 'good afternoon sunshine dawn day refreshed happy alive breathe air smile think love always',\n",
       " 'well know z take care worry',\n",
       " 'updatenow xmas offer latest motorola sonyericsson nokia free bluetooth double min txt orange call mobileupd calloptoutfq',\n",
       " 'discount code rp stop message reply stop wwwregalportfoliocouk customer service',\n",
       " 'wat uniform get',\n",
       " 'cool text ready',\n",
       " 'hello boytoy geeee miss already woke wish bed cuddling love',\n",
       " 'spoil bed well',\n",
       " 'going bath msg next ltgt min',\n",
       " 'keep talking people sure pay agree price pls tell want really buy much willing pay',\n",
       " 'thanks ringtone order reference charged gbp per week unsubscribe anytime calling customer service',\n",
       " 'say happen',\n",
       " 'could seen mei didt recognise face',\n",
       " 'well lot thing happening lindsay new year sigh bar ptbo blue heron something going',\n",
       " 'keep payasam rinu brings',\n",
       " 'taught ranjith sir called sm like becaus he verifying project prabu told today pa mistake',\n",
       " 'guess worried must know way body repair quite sure worry take slow first test guide ovulation relax nothing said reason worry ill keep followin',\n",
       " 'yeah sure give couple minute track wallet',\n",
       " 'hey leave big deal take care',\n",
       " 'hey late ah meet',\n",
       " 'double min txts month free bluetooth orange available sony nokia motorola phone call mobileupd calloptoutndx',\n",
       " 'took mr owl lick',\n",
       " 'customer place call',\n",
       " 'mm time like fun',\n",
       " 'mths half price orange line rental latest camera phone free phone mths call mobilesdirect free update orstoptxt',\n",
       " 'yup lunch buffet eat already',\n",
       " 'huh late fr dinner',\n",
       " 'hey sat going intro pilate kickboxing',\n",
       " 'morning ok',\n",
       " 'yes think office lap room think last day shut',\n",
       " 'pick bout ish time going',\n",
       " 'performance award calculated every two monthnot current one month period',\n",
       " 'actually sleeping still might call back text gr rock si send text wen wake',\n",
       " 'always putting business put picture as facebook one open people ever met would think picture room would hurt make feel violated',\n",
       " 'good evening sir al salam wahleykkumsharing happy newsby grace god got offer tayseertissco joinedhope fineinshah allahmeet sometimerakheshvisitor india',\n",
       " 'hmmmkbut want change field quickly dai want get system administrator network administrator',\n",
       " 'free ringtone text first poly text get true tone help st free tone xpw end txt stop',\n",
       " 'dear chechi talk',\n",
       " 'hair cream shipped',\n",
       " 'none happening til get though',\n",
       " 'yep great loxahatchee xmas tree burning ltgt start hour',\n",
       " 'haha get used driving usf man know lot stoner',\n",
       " 'well slightly disastrous class pm fav darling hope day ok coffee wld good stay late tomorrow time place always',\n",
       " 'hello good week fancy drink something later',\n",
       " 'headin towards busetop',\n",
       " 'messagesome text missing sendername missing number missing sentdate missing missing lot everything missing sent via fullonsmscom',\n",
       " 'come room point iron plan weekend',\n",
       " 'co want thing',\n",
       " 'okies go yan jiu skip ard oso go cine den go mrt one blah blah blah',\n",
       " 'bring home wendy',\n",
       " 'dating service call boxskch',\n",
       " 'whatsup want sleep',\n",
       " 'alright new goal',\n",
       " 'free entry weekly competition text word win tc wwwtxttowincouk',\n",
       " 'alright head minute text meet',\n",
       " 'send logo ur lover name joined heart txt love name name mobno eg love adam eve yahoo poboxwwq txtno ad p',\n",
       " 'yesfrom last week taking live call',\n",
       " 'someone contacted dating service entered phone fancy find call landline poboxntfp',\n",
       " 'siva hostel aha',\n",
       " 'urgent mobile number awarded prize guaranteed call land line claim valid hr',\n",
       " 'send ur friend receive something ur voice speaking expression childish naughty sentiment rowdy ful attitude romantic shy attractive funny ltgt irritating ltgt lovable reply',\n",
       " 'ok ok guess',\n",
       " 'aathiwhere dear',\n",
       " 'pain urination thing else',\n",
       " 'esplanade mind giving lift co got car today',\n",
       " 'wnt buy bmw car urgentlyits vry urgentbut hv shortage ltgt lacsthere source arng dis amt ltgt lacsthat prob',\n",
       " 'home watching tv lor',\n",
       " 'usually take fifteen fucking minute respond yes question',\n",
       " 'congrats nokia video camera phone call call cost ppm ave call min vary mobile close post bcm ldn wcnxx',\n",
       " 'booked ticket pongal',\n",
       " 'available like right around hillsborough amp ltgt th',\n",
       " 'message sent askin ltgt dollar shoul pay ltgt ltgt',\n",
       " 'ask g iouri told story like ten time already',\n",
       " 'long applebees fucking take',\n",
       " 'hi hope get txtjourney gdnow min late think',\n",
       " 'like love arrange',\n",
       " 'yeshe really greatbhaji told kallis best cricketer sachin worldvery tough get',\n",
       " 'supposed wake gt',\n",
       " 'oic saw tot din c found group liao',\n",
       " 'sorry call later',\n",
       " 'hey hey werethe monkeespeople say monkeyaround gorgeous',\n",
       " 'sorry battery died come getting gram place',\n",
       " 'well done blimey exercise yeah kind remember wot hmm',\n",
       " 'get concentration dear know mind everything',\n",
       " 'lol made plan new year',\n",
       " 'min later k',\n",
       " 'hank lotsly',\n",
       " 'thanks hope good day today',\n",
       " 'kkwhat detail want transferacc enough',\n",
       " 'ok tell stay yeah tough optimistic thing improve month',\n",
       " 'loan purpose homeowner tenant welcome previously refused still help call free text back help',\n",
       " 'si si think ill go make oreo truffle',\n",
       " 'look amy ure beautiful intelligent woman like lot know dont like like dont worry',\n",
       " 'hope result consistently intelligent kind start asking practicum link keep ear open best ttyl',\n",
       " 'call cost guess bad miss ya need ya want ya love ya',\n",
       " 'going thru different feelingwavering decision coping individualtime heal everything believe',\n",
       " 'go phone going die stay',\n",
       " 'great never better day give even reason thank god',\n",
       " 'upgrdcentre orange customer may claim free camera phone upgrade loyalty call offer end th july tc apply optout available',\n",
       " 'sorry call later ok bye',\n",
       " 'ok way railway',\n",
       " 'great princess love giving receiving oral doggy style fave position enjoy making love ltgt time per night',\n",
       " 'put stuff road keep getting slippery',\n",
       " 'going ride bike',\n",
       " 'yup need jus wait e rain stop',\n",
       " 'many company tell language',\n",
       " 'okmail dear dave final notice collect tenerife holiday cash award call landline tc sae box cwwx ppm',\n",
       " 'long since screamed princess',\n",
       " 'nothing meant money enters account bank remove flat rate someone transfered ltgt account ltgt dollar got removed bank differ charge also differbe sure trust ja person sending account detail co',\n",
       " 'want get laid tonight want real dogging location sent direct ur mob join uk largest dogging network txting moan nyt eca pmsgp',\n",
       " 'nice line said broken heart plz cum time infront wise trust good',\n",
       " 'ok going head usf like fifteen minute',\n",
       " 'love aathilove lot',\n",
       " 'tension ahwhat machiany problem',\n",
       " 'k pick another th done',\n",
       " 'whenre guy getting back g said thinking staying mcr',\n",
       " 'almost see sec',\n",
       " 'yo carlos friend already asking working weekend',\n",
       " 'watching tv lor',\n",
       " 'thank baby wait taste real thing',\n",
       " 'change fb jaykwon thuglyfe falconerf',\n",
       " 'win really side long time',\n",
       " 'free message activate free text message replying message word free term condition visit wwwcom',\n",
       " 'dear reached railway happen',\n",
       " 'depends quality want type sent boye faded glory want ralphs maybe',\n",
       " 'think fixed send test message',\n",
       " 'sorry man account dry would want could trade back half could buy shit credit card',\n",
       " 'congrats year special cinema pas call c suprman v matrix starwars etc free bxipwe pm miss',\n",
       " 'sorryin meeting call later',\n",
       " 'class ltgt reunion',\n",
       " 'free nowcan call',\n",
       " 'got meh',\n",
       " 'nope think go monday sorry replied late',\n",
       " 'told accenture confirm true',\n",
       " 'kate jackson rec center ish right',\n",
       " 'dear reache room',\n",
       " 'fighting world easy either win lose bt fightng close dificult lose lose win still lose',\n",
       " 'come',\n",
       " 'check nuerologist',\n",
       " 'lolnice went fish water',\n",
       " 'congratulation week competition draw prize claim call b tcsstop sm ppm',\n",
       " 'waiting e car dat bored wat co wait outside got nothing home stuff watch tv wat',\n",
       " 'maybe westshore hyde park village place near house',\n",
       " 'know anthony bringing money school fee pay rent stuff like need help friend need',\n",
       " 'significance',\n",
       " 'opinion jada kusruthi lovable silent spl character matured stylish simple pls reply',\n",
       " 'latest g still scrounge ammo want give new ak try',\n",
       " 'prabhai sorydarealyfrm heart sory',\n",
       " 'lol ok forgiven',\n",
       " 'nojst change tat',\n",
       " 'guaranteed latest nokia phone gb ipod mp player prize txt word collect ibhltd ldnwh pmtmsgrcvd',\n",
       " 'sno competition',\n",
       " 'boltblue tone p reply poly mono eg poly cha cha slide yeah slow jamz toxic come stop tone txt',\n",
       " 'credit topped httpwwwbubbletextcom renewal pin tgxxrz',\n",
       " 'way transport le problematic sat night way want ask n join bday feel free need know definite no booking fri',\n",
       " 'usually person unconscious child adult may behave abnormally ill call',\n",
       " 'ebay might le elsewhere',\n",
       " 'shall come get pickle',\n",
       " 'going go get taco',\n",
       " 'rude campus',\n",
       " 'urgent mobile awarded bonus caller prize nd attempt contact call boxqu',\n",
       " 'hi b ard christmas enjoy n merry xmas',\n",
       " 'today offer claim ur worth discount voucher text yes savamob member offer mobile c sub unsub reply x',\n",
       " 'yes pretty lady like single',\n",
       " 'recieve tone within next hr term condition please see channel teletext pg',\n",
       " 'jay say doublefaggot',\n",
       " 'private account statement show unredeemed sim point call identifier code expires',\n",
       " 'todaysundaysunday holidayso work',\n",
       " 'gudnitetcpractice going',\n",
       " 'late',\n",
       " 'called hoping lr malaria know miss guy miss ban big pls give love especially great day',\n",
       " 'good afternoon love go day hope maybe got lead job think boytoy send passionate kiss across sea',\n",
       " 'probably going see later tonight lt',\n",
       " 'maybe fat finger press button know',\n",
       " 'ummmmmaah many many happy return day dear sweet heart happy birthday dear',\n",
       " 'tirupur da started office call',\n",
       " 'wwwapplausestorecom monthlysubscriptionpmsg maxmonth tcsc web age stop txt stop',\n",
       " 'famous quote develop ability listen anything unconditionally without losing temper self confidence mean married',\n",
       " 'going college pa else ill come self pa',\n",
       " 'clock mine bash flat plan',\n",
       " 'girl stay bed girl need recovery time id rather pas fun cooped bed',\n",
       " 'special',\n",
       " 'know need get hotel got invitation apologise cali sweet come english bloke weddin',\n",
       " 'sorry took long omw',\n",
       " 'wait ltgt min',\n",
       " 'ok give minute think see btw alibi cutting hair whole time',\n",
       " 'imagine finally get sink bath put pace maybe even eat left also imagine feel cage cock surrounded bath water reminding always owns enjoy cuck',\n",
       " 'hurry weeddeficient like three day',\n",
       " 'sure get acknowledgement astoundingly tactless generally faggy demand blood oath fo',\n",
       " 'ok every night take warm bath drink cup milk see work magic still need loose weight know',\n",
       " 'ill look frying pan case cheap book perhaps thats silly frying pan isnt likely book',\n",
       " 'well uv cause mutation sunscreen like essential thesedays',\n",
       " 'lunchyou onlinewhy',\n",
       " 'know friend already told',\n",
       " 'hi princess thank pic pretty',\n",
       " 'aiyo always c ex one dunno abt mei reply first time reply fast lucky workin huh got bao ur sugardad ahgee',\n",
       " 'hi msg mei office',\n",
       " 'thanx e brownie v nice',\n",
       " 'geeeee love much barely stand',\n",
       " 'gent trying contact last weekend draw show prize guaranteed call claim code k valid hr ppm',\n",
       " 'fuck babe miss already know let send money towards net need want crave',\n",
       " 'ill call mrw ninish address icky american freek stop callin bad jen k eh',\n",
       " 'oooh bed ridden ey thinking',\n",
       " 'anyways go gym whatever love smile hope ok good day babe miss much already',\n",
       " 'love daddy make scream pleasure going slap as dick',\n",
       " 'wot want missy',\n",
       " 'yar lor wait mum finish sch lunch lor whole morning stay home clean room room quite clean hee',\n",
       " 'know lab goggles went',\n",
       " 'open door',\n",
       " 'waiting call',\n",
       " 'nope waiting sch daddy',\n",
       " 'cash prize claim call',\n",
       " 'tired arguing week week want',\n",
       " 'wait sch finish ard',\n",
       " 'mobile number claim call u back ring claim hot line',\n",
       " 'arngd marriage r walkin unfortuntly snake bite bt love marriage dancing frnt snake amp sayin bite bite',\n",
       " 'huh early dinner outside izzit',\n",
       " 'ok anyway need change said',\n",
       " 'tried contact reply offer min textand new video phone call reply free delivery tomorrow',\n",
       " 'exwife able kid want kid one day',\n",
       " 'scotland hope showing jjc tendency take care live dream',\n",
       " 'tell headache want use hour sick time',\n",
       " 'dun thk quit yet hmmm go jazz yogasana oso go meet lesson den',\n",
       " 'pete please ring meive hardly gotany credit',\n",
       " 'ya srsly better yi tho',\n",
       " 'meeting call later',\n",
       " 'ur chance win wkly shopping spree txt shop tscs wwwtxtshopcom custcare xpwk',\n",
       " 'specially selected receive pound award call line close cost ppm tc apply ag promo',\n",
       " 'private account statement show unredeemed point call identifier code expires',\n",
       " 'still grand prix',\n",
       " 'met stranger choose friend long world stand friendship never end let u friend forever gud nitz',\n",
       " 'great',\n",
       " 'gud mrng dear nice day',\n",
       " 'important customer service announcement call freephone',\n",
       " 'exhausted train morning much wine pie sleep well',\n",
       " 'going buy mum present ar',\n",
       " 'mind blastin tsunami occur rajnikant stopped swimming indian oceand',\n",
       " 'sending home first ok lor ready yet',\n",
       " 'speaking cash yet',\n",
       " 'happy come noon',\n",
       " 'meet lunch la',\n",
       " 'take care n get well soon',\n",
       " 'xclusiveclubsaisai morow soiree speciale zouk nichols parisfree rose lady info',\n",
       " 'meant say wait see getting bored bridgwater banter',\n",
       " 'neva mind ok',\n",
       " 'fine imma get drink somethin want come find',\n",
       " 'day kick euro kept date latest news result daily removed send get txt stop',\n",
       " 'valentine game send dis msg ur friend answer r someone really love ques colour suit bestrply',\n",
       " 'many dependent',\n",
       " 'thanx today cer nice catch ave find time often oh well take care c soonc',\n",
       " 'called said himthen choose future',\n",
       " 'happy valentine day know early hundred handsomes beauty wish thought finish aunty uncle st',\n",
       " 'like v shock leh co telling shuhui like telling leona also like dat almost know liao got ask abt ur reaction lor',\n",
       " 'family happiness',\n",
       " 'come n pick come immediately aft ur lesson',\n",
       " 'let snow let snow kind weather brings ppl together friendship grow',\n",
       " 'dear got ltgt dollar hi hi',\n",
       " 'good word word may leave dismay many time',\n",
       " 'make sure alex know birthday fifteen minute far concerned',\n",
       " 'sorry got thing may pub later',\n",
       " 'nah straight bring bud drink something actually little useful straight cash',\n",
       " 'haha good hear officially paid market th',\n",
       " 'many lick take get center tootsie pop',\n",
       " 'yup thk r e teacher said make face look longer darren ask cut short',\n",
       " 'new textbuddy chat horny guy ur area p free receive search postcode gaytextbuddycom txt one name',\n",
       " 'today vodafone number ending selected receive award number match call receive award',\n",
       " 'please say like hi hi hi',\n",
       " 'thank',\n",
       " 'oh forwarded message thought send',\n",
       " 'got seventeen pound seven hundred ml hope ok',\n",
       " 'dear voucher holder claim week offer pc go httpwwwetlpcoukexpressoffer tscs apply stop text txt stop',\n",
       " 'n funny',\n",
       " 'sweetheart hope kind day one load reason smile biola',\n",
       " 'login dat time dad fetching home',\n",
       " 'shower baby',\n",
       " 'askd question hour answer',\n",
       " 'well imma definitely need restock thanksgiving let know',\n",
       " 'said kiss kiss sound effect gorgeous man kind person need smile brighten day',\n",
       " 'probably going swing wee bit',\n",
       " 'ya nice ready thursday',\n",
       " 'allo braved bus taken train triumphed mean bham jolly good rest week',\n",
       " 'watching cartoon listening music amp eve go temple amp church',\n",
       " 'mind ask happened say uncomfortable',\n",
       " 'private account statement show unredeemed point call identifier code expires',\n",
       " 'prob send email',\n",
       " 'cash prize claim call tc rstm sw s ppm',\n",
       " 'cool sometimes slow gentle sonetimes rough hard',\n",
       " 'going say sorry would normal starting panic time sorry seeing tuesday',\n",
       " 'wait know wesley town bet hella drug',\n",
       " 'fine miss much',\n",
       " 'got person story',\n",
       " 'tell drug dealer getting impatient',\n",
       " 'sun come earth send love ray cloud come river send love rain come meet send care msg gud evng',\n",
       " 'place man',\n",
       " 'make sense take unless free need know wikipediacom',\n",
       " 'premium phone service call',\n",
       " 'sea lay rock rock envelope envelope paper paper word',\n",
       " 'mum repent',\n",
       " 'sorry going home first daddy come fetch later',\n",
       " 'leave de start prepare next',\n",
       " 'yes baby study position kama sutra',\n",
       " 'en chikku nange bakra msg kalstiyathen teacoffee',\n",
       " 'carlosll minute still need buy',\n",
       " 'pay ltdecimalgt lakh',\n",
       " 'good evening ttyl',\n",
       " 'receive msg',\n",
       " 'ho ho big belly laugh see ya tomo',\n",
       " 'sm ac sun post helloyou seem cool',\n",
       " 'get ur st ringtone free reply msg tone gr top tone phone every week per wk opt send stop',\n",
       " 'ditto worry saying anything anymore like said last night whatever want peace',\n",
       " 'got ltgt way could pick',\n",
       " 'knw pa drink milk',\n",
       " 'maybe say hi find got card great escape wetherspoons',\n",
       " 'piggy r awake bet youre still sleeping going lunch',\n",
       " 'freaky lol',\n",
       " 'missed call yelling scrappy miss wait come home lonely today',\n",
       " 'hex place talk explain',\n",
       " 'log wat sdrybi',\n",
       " 'xy going e lunch',\n",
       " 'hi sue year old work lapdancer love sex text live bedroom text sue textoperator g da ppmsg',\n",
       " 'wanted ask wait finish lect co lect finish hour anyway',\n",
       " 'finished work yet',\n",
       " 'every king cry baby every great building map imprtant r today wil reach tomorw gud ni',\n",
       " 'dearme cherthalain case r coming cochin pls call bfore starti shall also reach accordinglyor tell day r comingtmorow engaged an holiday',\n",
       " 'thanks love torch bold',\n",
       " 'forwarded please call immediately urgent message waiting',\n",
       " 'farm open',\n",
       " 'sorry trouble buy dad big small sat n sun thanx',\n",
       " 'sister law hope great month saying hey abiola',\n",
       " 'purchase stuff today mail po box number',\n",
       " 'ah poop look like ill prob send laptop get fixed cuz gpu problem',\n",
       " 'good good job like entrepreneur',\n",
       " 'aight close still around alexs place',\n",
       " 'meet corporation st outside gap see mind working',\n",
       " 'mum ask buy food home',\n",
       " 'kyou also msg reply msg',\n",
       " 'much willing pay',\n",
       " 'sorry call later',\n",
       " 'important prevent dehydration giving enough fluid',\n",
       " 'bit weird even supposed happening good idea sure pub',\n",
       " 'true deari sat pray evening felt soso smsd time',\n",
       " 'think get away trek long family town sorry',\n",
       " 'want gym harri',\n",
       " 'quite late lar ard anyway wun b drivin',\n",
       " 'review keep fantastic nokia ngage game deck club nokia go wwwcnupdatescomnewsletter unsubscribe alert reply word',\n",
       " 'mths half price orange line rental latest camera phone free phone mths call mobilesdirect free update orstoptxt tc',\n",
       " 'height confidence aeronautics professor wer calld amp wer askd sit aeroplane aftr sat wer told dat plane w made student dey hurried plane bt move saidif made student',\n",
       " 'seems like weird timing night g want come smoke day shitstorm attributed always coming making everyone smoke',\n",
       " 'ampm cost p',\n",
       " 'save stress person dorm account send account detail money sent',\n",
       " 'also know lunch menu da know',\n",
       " 'stuff sell ill tell',\n",
       " 'urgent nd attempt contact youyou call b tcsbcmwcnxx callcost ppm mobilesvary max',\n",
       " 'book lesson msg call work sth going get spec membership px',\n",
       " 'guaranteed cash prize claim yr prize call customer service representative ampm',\n",
       " 'macha feel upseti assume mindsetbelieve one evening wonderful plan uslet life begin againcall anytime',\n",
       " 'oh send address',\n",
       " 'sfine anytime best',\n",
       " 'wondar full flim',\n",
       " 'ya even cooky jelly',\n",
       " 'world running stillmaybe feeling sameso itor admiti madthen correctionor let call lifeand keep running worldmay r also runninglet u run',\n",
       " 'got look scrumptious daddy want eat night long',\n",
       " 'co lar ba dao ok pm lor never ask go ah said would ask fri said ask today',\n",
       " 'alright omw got change order halfth',\n",
       " 'exactly anyways far jide study visiting',\n",
       " 'dunno ask',\n",
       " 'email alertfrom jeri stewartsize kbsubject lowcost prescripiton drvgsto listen email call',\n",
       " 'spring coming early yay',\n",
       " 'lol feel bad use money take steak dinner',\n",
       " 'even get trouble convincingjust tel twice tel neglect msg c read itjust reply',\n",
       " 'leaving qatar tonite search opportunityall went fastpls add ur prayer dearrakhesh',\n",
       " 'one talking',\n",
       " 'thanks looking really appreciate',\n",
       " 'hi customer loyalty offerthe new nokia mobile txtauction txt word start get tctxt tc pmtmsg',\n",
       " 'wish',\n",
       " 'haha mayb youre rite know well da feeling liked someone gd lor faster go find one gal group attached liao',\n",
       " 'yes glad made',\n",
       " 'well little time thing good time ahead',\n",
       " 'got room soon put clock back til shouted everyone get realised wahay another hour bed',\n",
       " 'ok may free gym',\n",
       " 'men like shorter lady gaze eye',\n",
       " 'dunno jus say go lido time',\n",
       " 'promise take good care princess run please send pic get chance ttyl',\n",
       " 'subscribed best mobile content service uk per day send stop helpline',\n",
       " 'reason spoken year anyways great week best exam',\n",
       " 'monday next week give full gist',\n",
       " 'realize year thousand old lady running around tattoo',\n",
       " 'important customer service announcement premier',\n",
       " 'give lip caveboy',\n",
       " 'get library',\n",
       " 'realy sorryi recognise number confused r please',\n",
       " 'holla',\n",
       " 'think anyone spare room top head',\n",
       " 'faith make thing possiblehope make thing worklove make thing beautifulmay three christmasmerry christmas',\n",
       " 'made appointment',\n",
       " 'call youcarlos isare phone vibrate acting might hear text',\n",
       " 'romantic paris night flight book next year call tscs apply',\n",
       " 'grandma oh dear still ill felt shit morning think hungover another night leave sat',\n",
       " 'urgent ur guaranteed award still unclaimed call closingdate claimcode mm pmmorefrommobilebremovedmobypoboxlsyf',\n",
       " 'nothing jus tot would ask co ba gua went mt faber yest yest jus went already mah today going jus call lor',\n",
       " 'wishing family merry x ma happy new year advance',\n",
       " 'ur awarded city break could win summer shopping spree every wk txt store skilgme tscswinawkage perwksub',\n",
       " 'nt goin got somethin unless meetin dinner lor haha wonder go time',\n",
       " 'sorry call later',\n",
       " 'pick phone right pls send message',\n",
       " 'lol know dramatic school already closed tomorrow apparently drive inch snow supposed get',\n",
       " 'getting anywhere damn job hunting',\n",
       " 'lol drunkard hair moment yeah still tonight wats plan',\n",
       " 'idc get weaseling way shit twice row',\n",
       " 'wil ltgt minute got space',\n",
       " 'sleepingand surfing',\n",
       " 'thanks picking trash',\n",
       " 'go tell friend sure want live smoke much spend hour begging come smoke',\n",
       " 'hi kate lovely see tonight ill phone tomorrow got sing guy gave card xxx',\n",
       " 'happy new year dear brother really miss got number decided send text wishing happiness abiola',\n",
       " 'mean get door',\n",
       " 'opinion jada kusruthi lovable silent spl character matured stylish simple pls reply',\n",
       " 'hmmm thought said hour slave late punish',\n",
       " 'beerage',\n",
       " 'important customer service announcement premier call freephone',\n",
       " 'think turn like randomlly within min opening',\n",
       " 'supposed could make still town though',\n",
       " 'time fix spelling sometimes get completely diff word go figure',\n",
       " 'ever thought living good life perfect partner txt back name age join mobile community psms',\n",
       " 'free top polyphonic tone call national rate get toppoly tune sent every week text subpoly per pole unsub',\n",
       " 'gud mrng dear hav nice day',\n",
       " 'hoping enjoyed game yesterday sorry touch pls know fondly bein thot great week abiola',\n",
       " 'e best ur driving tmr',\n",
       " 'ywhere dogbreath sounding like jan c thats al',\n",
       " 'omg want scream weighed lost weight woohoo',\n",
       " 'generally one uncountable noun dictionary piece research',\n",
       " 'really getting hanging around',\n",
       " 'orange customer may claim free camera phone upgrade loyalty call offer end thmarch tc apply optout availa',\n",
       " 'petey boy whereare friendsare thekingshead come canlove nic',\n",
       " 'ok msg b leave house',\n",
       " 'give ltgt minute ago',\n",
       " 'last chance claim ur worth discount voucher today text shop savamob offer mobile c savamob pobox muz sub',\n",
       " 'appt lttimegt fault listen told twice',\n",
       " 'free st week nokia tone ur mobile every week txt nokia get txting tell ur mate wwwgetzedcouk pobox wwq normptone',\n",
       " 'guaranteed award even cashto claim ur award call free stop getstop php rg jx',\n",
       " 'k',\n",
       " 'dled imp',\n",
       " 'sure make sure know smokin yet',\n",
       " 'boooo always work quit',\n",
       " 'taking half day leave bec well',\n",
       " 'ugh want get bed warm',\n",
       " 'ssnervous ltgt',\n",
       " 'ring come guy costume gift future yowifes hint hint',\n",
       " 'congratulation ur awarded either cd gift voucher free entry weekly draw txt music tncs wwwldewcomwinppmxage',\n",
       " 'borrow ur bag ok',\n",
       " 'outbid simonwatson shinco dvd plyr bid visit sm acsmsrewards end bid notification reply end',\n",
       " 'boytoy miss happened',\n",
       " 'lot used one babe model help youi bring match',\n",
       " 'also bringing galileo dobby',\n",
       " 'responding',\n",
       " 'boo babe enjoyin yourjob seemed b gettin well hunnyhope ure oktake care illspeak u soonlots loveme xxxx',\n",
       " 'good afternoon starshine boytoy crave yet ache fuck sip cappuccino miss babe teasing kiss',\n",
       " 'road txt',\n",
       " 'smsservices yourinclusive text credit pls goto wwwcomuknet login qxj unsubscribe stop extra charge help comuk cm ae',\n",
       " 'p alfie moon child need song ur mob tell ur m txt tone charity nokias poly charity polys zed profit charity',\n",
       " 'good evening ttyl',\n",
       " 'hmm bit piece lol sigh',\n",
       " 'hahahause brain dear',\n",
       " 'hey got mail',\n",
       " 'sorry light turned green meant another friend wanted ltgt worth may around',\n",
       " 'thanks yesterday sir wonderful hope enjoyed burial mojibiola',\n",
       " 'secret admirer reveal think r special call opt reply reveal stop per msg recd cust care',\n",
       " 'hi mate rv hav nice hol message say hello coz havent sent age started driving stay roadsrvx',\n",
       " 'dear voucher holder claim week offer pc please go httpwwwetlpcoukexpressoffer tscs apply stop text txt stop',\n",
       " 'thank much skyped wit kz sura get pleasure company hope good given ultimatum oh countin aburo enjoy message sent day ago',\n",
       " 'surely result offer',\n",
       " 'good morning dear great amp successful day',\n",
       " 'want anytime network min text new video phone five pound per week call reply delivery tomorrow',\n",
       " 'sir late paying rent past month pay ltgt charge felt would inconsiderate nag something give great cost speak however recession able pay charge month hence askin well ahead month end please help thanks',\n",
       " 'tried contact offer new video phone anytime network min half price rental camcorder call reply delivery wed',\n",
       " 'last chance claim ur worth discount voucherstext yes nowsavamobmember offer mobile c sub remove txt x stop',\n",
       " 'love soo much dont understand special r ring morrow love xxx',\n",
       " 'pls send comprehensive mail paying much',\n",
       " 'prashanthettans mother passed away last night pray family',\n",
       " 'urgent call landline complimentary ibiza holiday cash await collection sae tc po box sk wp ppm',\n",
       " 'kkwhen going',\n",
       " 'meanwhile shit suite xavier decided give u ltgt second warning samantha coming playing jay guitar impress shit also think doug realizes live anymore',\n",
       " 'stomach thru much trauma swear eat better lose weight',\n",
       " 'officewhat mattermsg nowi call break',\n",
       " 'yeah barely enough room two u x many fucking shoe sorry man see later',\n",
       " 'today offer claim ur worth discount voucher text yes savamob member offer mobile c sub unsub reply x',\n",
       " 'reach orchard already wan go buy ticket first',\n",
       " 'real baby want bring inner tigress',\n",
       " 'da run activate full version da',\n",
       " 'ah poor babyhope urfeeling bettersn love probthat overdose work hey go careful spk sn lot lovejen xxx',\n",
       " 'stop story told returned saying order',\n",
       " 'talk sexy make new friend fall love world discreet text dating service text vip see could meet',\n",
       " 'going take babe',\n",
       " 'hai ana tomarrow coming morning ltdecimalgt ill sathy go rto office reply came home',\n",
       " 'spoon okay',\n",
       " 'say somebody named tampa',\n",
       " 'work going min',\n",
       " 'brother genius',\n",
       " 'sorry guess whenever get hold connection maybe hour two text',\n",
       " 'find time bus coz need sort stuff',\n",
       " 'dude seeing lotta corvette lately',\n",
       " 'congratulation ur awarded either yr supply cd virgin record mystery gift guaranteed call tscs wwwsmsconet pm approx min',\n",
       " 'consider wall bunker shit important never play peaceful guess place high enough matter',\n",
       " 'private account statement xxxxxx show unredeemed point call identifier code expires',\n",
       " 'hello need posh bird chap user trial prod champneys put need address dob soon possible ta r',\n",
       " 'want xmas free text message new video phone half price line rental call free find',\n",
       " 'well officially philosophical hole want call home ready saved',\n",
       " 'going goodno problembut still need little experience understand american customer voice',\n",
       " 'text drop x',\n",
       " 'ugh long day exhausted want cuddle take nap',\n",
       " 'talk atleast day otherwise miss best friend world shakespeare shesil ltgt',\n",
       " 'shop till drop either k k cash travel voucher call ntt po box crbt fixedline cost ppm mobile vary',\n",
       " 'castor need see something',\n",
       " 'sunshine quiz wkly q win top sony dvd player know country liverpool played mid week txt ansr sptyrone',\n",
       " 'secret admirer looking make contact youfind rreveal think ur specialcall',\n",
       " 'secret admirer looking make contact youfind rreveal think ur specialcall stopsms',\n",
       " 'reminder downloaded content already paid goto httpdoit mymoby tv collect content',\n",
       " 'see knew giving break time woul lead always wanting miss curfew going gibe til one midnight movie going get til need come home need getsleep anything need b studdying ear training',\n",
       " 'love give massage use lot baby oil fave position',\n",
       " 'dude go sup',\n",
       " 'yoyyooo know change permission drive mac usb flash drive',\n",
       " 'gibbs unsoldmike hussey',\n",
       " 'like talk pa able know',\n",
       " 'dun cut short leh dun like ah failed quite sad',\n",
       " 'unbelievable faglord',\n",
       " 'wifehow knew time murder exactly',\n",
       " 'ask princess',\n",
       " 'great princess thinking',\n",
       " 'nutter cutter ctter cttergg cttargg ctargg ctagg ie',\n",
       " 'ok noe youre busy really bored msg oso dunno wat colour choose one',\n",
       " 'g class early tomorrow thus trying smoke ltgt',\n",
       " 'superb thought grateful everything want mean still opportunity happier tomorrow today',\n",
       " 'hope good week checking',\n",
       " 'used hope agent drop since booked thing year whole boston nyc experiment',\n",
       " 'thursday night yeah sure thing work',\n",
       " 'free ringtone waiting collected simply text password mix verify get usher britney fml',\n",
       " 'probably money worry thing coming due several outstanding invoice work two three month ago',\n",
       " 'possible teach',\n",
       " 'wonder phone battery went dead tell love babe',\n",
       " 'lovely smell bus tobacco',\n",
       " 'getting worried derek taylor already assumed worst',\n",
       " 'hey charles sorry late reply',\n",
       " 'lastest stereophonics marley dizzee racal libertine stroke win nookii game flirt click themob wap bookmark text wap',\n",
       " 'ill give plus said grinule greet whenever speak',\n",
       " 'white fudge oreo store',\n",
       " 'january male sale hot gay chat cheaper call national rate pmin cheap pmin peak stop text call pmin',\n",
       " 'love come took long leave zahers got word ym happy see sad left miss',\n",
       " 'sorry hurt',\n",
       " 'feel nauseous pissed eat sweet week today planning pig dieting week hungry',\n",
       " 'ok lor early still project meeting',\n",
       " 'call da waiting call',\n",
       " 'could ask carlos could get anybody else chip',\n",
       " 'actually send reminder today wonderful weekend',\n",
       " 'people see msg think iam addicted msging wrong bcoz dont know iam addicted sweet friend bslvyl',\n",
       " 'hey gave photo registered driving ah tmr want meet yck',\n",
       " 'talk ever ok word',\n",
       " 'wana see',\n",
       " 'way school pls send ashleys number',\n",
       " 'shall fine avalarr hollalater',\n",
       " 'went attend another two round todaybut still didt reach home',\n",
       " 'actually deleted old websitenow blogging magicalsongsblogspotcom',\n",
       " 'k wait chikkuil send aftr ltgt min',\n",
       " 'diet ate many slice pizza yesterday ugh always diet',\n",
       " 'ki give kvb acc detail',\n",
       " 'oh come ah',\n",
       " 'money r lucky winner claim prize text money million give away pptxnormal text rate box wtjy',\n",
       " 'really sorry b able fridayhope find alternativehope yr term going ok',\n",
       " 'congratulation ore mo owo wa enjoy wish many happy moment fro wherever go',\n",
       " 'samus shoulder yet',\n",
       " 'time think need know near campus',\n",
       " 'dear matthew please call landline complimentary lux tenerife holiday cash await collection ppm sae tc box skxh',\n",
       " 'dun wear jean lor',\n",
       " 'since side fever vomitin',\n",
       " 'kkare college',\n",
       " 'urgent call landline complimentary tenerife holiday cash await collection sae tc box hp yf ppm',\n",
       " 'better made friday stuffed like pig yesterday feel bleh least writhing pain kind bleh',\n",
       " 'sell ton coin sell coin someone thru paypal voila money back life pocket',\n",
       " 'lot place hospital medical place safe',\n",
       " 'getting touch folk waiting company txt back name age opt enjoy community psms',\n",
       " 'also sorta blown couple time recently id rather text blue looking weed',\n",
       " 'sent score sophas secondary application school think thinking applying research cost also contact joke ogunrinde school one le expensive one',\n",
       " 'wait see photo useful',\n",
       " 'ur cashbalance currently pound maximize ur cashin send go pmsg cc po box tcrw',\n",
       " 'hey booked kb sat already lesson going ah keep sat night free need meet confirm lodging',\n",
       " 'chk ur belovd m dict',\n",
       " 'time want come',\n",
       " 'awesome lemme know whenever around',\n",
       " 'shb b ok lor thanx',\n",
       " 'beautiful truth gravity read carefully heart feel light someone feel heavy someone leaf good night',\n",
       " 'also remember get dobbys bowl car',\n",
       " 'filthy story girl waiting',\n",
       " 'sorry c ur msg yar lor poor thing one night tmr youll brand new room sleep',\n",
       " 'love decision feeling could decide love life would much simpler le magical',\n",
       " 'welp apparently retired',\n",
       " 'sort code acc bank natwest reply confirm sent right person',\n",
       " '',\n",
       " 'sure take sick time',\n",
       " 'urgent trying contact today draw show prize guaranteed call land line claim validhrs',\n",
       " 'watching cartoon listening music amp eve go temple amp church',\n",
       " 'yo chad gymnastics class want take site say christian class full',\n",
       " 'much buzy',\n",
       " 'better still catch let ask sell ltgt',\n",
       " 'sure night menu know noon menu',\n",
       " 'want come backa beautiful necklace token heart youthat give wife likingbe seeno one give thatdo call mei wait till come',\n",
       " 'willing go aptitude class',\n",
       " 'b trying sort house ok',\n",
       " 'yar lor wan go c horse racing today mah eat earlier lor ate chicken rice',\n",
       " 'haha awesome omw back',\n",
       " 'yup thk e shop close lor',\n",
       " 'account number',\n",
       " 'eh send wrongly lar',\n",
       " 'hey ad crap nite borin without ya boggy boring biatch thanx wait til nxt time il ave ya',\n",
       " 'ok shall talk',\n",
       " 'hesitate know second time weakness like keep notebook eat day anything changed day sure nothing',\n",
       " 'hey pay salary de ltgt',\n",
       " 'another month need chocolate weed alcohol',\n",
       " 'started searching get job dayshe great potential talent',\n",
       " 'reckon need town eightish walk carpark',\n",
       " 'congrats mobile g videophones r call videochat wid mate play java game dload polyph music noline rentl',\n",
       " 'look fuckin time fuck think',\n",
       " 'yo guess dropped',\n",
       " 'carlos say mu ltgt minute',\n",
       " 'office call ltgt min',\n",
       " 'geeee miss already know think fuck wait till next year together loving kiss',\n",
       " 'yun ahthe ubi one say wan call tomorrowcall look ireneere got bus ubi cresubi tech parkph st wkg daysn',\n",
       " 'ugh got drive back sd la butt sore',\n",
       " 'th july',\n",
       " 'hi relaxing time ever get every day party good night get home tomorrow ish',\n",
       " 'wan come come lor din c stripe skirt',\n",
       " 'xmas story peace xmas msg love xmas miracle jesus hav blessed month ahead amp wish merry xmas',\n",
       " 'number',\n",
       " 'change e one next escalator',\n",
       " 'yetunde class run water make ok pls',\n",
       " 'lot happened feel quiet beth aunt charlie working lot helen mo',\n",
       " 'wait bus stop aft ur lect lar dun c go get car come back n pick',\n",
       " 'aight thanks comin',\n",
       " ...]"
      ]
     },
     "execution_count": 21,
     "metadata": {},
     "output_type": "execute_result"
    }
   ],
   "source": [
    "corpus = []\n",
    "for i in range(0,len(X)):\n",
    "    sms = process(X['Tweet'][i])\n",
    "    corpus.append(sms)\n",
    "corpus"
   ]
  },
  {
   "cell_type": "code",
   "execution_count": 25,
   "metadata": {},
   "outputs": [
    {
     "data": {
      "text/plain": [
       "'go jurong point crazy available bugis n great world la e buffet cine got amore wat'"
      ]
     },
     "execution_count": 25,
     "metadata": {},
     "output_type": "execute_result"
    }
   ],
   "source": [
    "corpus[0]"
   ]
  },
  {
   "cell_type": "code",
   "execution_count": 26,
   "metadata": {},
   "outputs": [
    {
     "data": {
      "text/plain": [
       "[987, 245, 81, 905, 777, 39, 694, 767, 478, 726, 329, 80, 824, 980, 361, 770]"
      ]
     },
     "execution_count": 26,
     "metadata": {},
     "output_type": "execute_result"
    }
   ],
   "source": [
    "onehot_repr=[one_hot(words,voc_size)for words in corpus] \n",
    "onehot_repr[0]"
   ]
  },
  {
   "cell_type": "markdown",
   "metadata": {},
   "source": [
    "### Embedding Representation"
   ]
  },
  {
   "cell_type": "code",
   "execution_count": 27,
   "metadata": {},
   "outputs": [
    {
     "name": "stdout",
     "output_type": "stream",
     "text": [
      "[[  0   0   0 ... 980 361 770]\n",
      " [  0   0   0 ... 435 888 179]\n",
      " [107 665 805 ...  63 874 518]\n",
      " ...\n",
      " [  0   0   0 ... 531 350 180]\n",
      " [  0   0   0 ... 298 550 107]\n",
      " [  0   0   0 ... 398 625 177]]\n"
     ]
    }
   ],
   "source": [
    "sent_length=20\n",
    "embedded_docs=pad_sequences(onehot_repr,padding='pre',maxlen=sent_length)\n",
    "print(embedded_docs)"
   ]
  },
  {
   "cell_type": "code",
   "execution_count": 28,
   "metadata": {},
   "outputs": [
    {
     "data": {
      "text/plain": [
       "array([  0,   0,   0,   0, 987, 245,  81, 905, 777,  39, 694, 767, 478,\n",
       "       726, 329,  80, 824, 980, 361, 770])"
      ]
     },
     "execution_count": 28,
     "metadata": {},
     "output_type": "execute_result"
    }
   ],
   "source": [
    "embedded_docs[0]"
   ]
  },
  {
   "cell_type": "code",
   "execution_count": 29,
   "metadata": {
    "scrolled": true
   },
   "outputs": [
    {
     "name": "stdout",
     "output_type": "stream",
     "text": [
      "Model: \"sequential\"\n",
      "_________________________________________________________________\n",
      "Layer (type)                 Output Shape              Param #   \n",
      "=================================================================\n",
      "embedding (Embedding)        (None, 20, 40)            40000     \n",
      "_________________________________________________________________\n",
      "lstm (LSTM)                  (None, 100)               56400     \n",
      "_________________________________________________________________\n",
      "dense (Dense)                (None, 1)                 101       \n",
      "=================================================================\n",
      "Total params: 96,501\n",
      "Trainable params: 96,501\n",
      "Non-trainable params: 0\n",
      "_________________________________________________________________\n",
      "None\n"
     ]
    }
   ],
   "source": [
    "## Creating model\n",
    "embedding_vector_features=40\n",
    "model=Sequential()\n",
    "model.add(Embedding(voc_size,embedding_vector_features,input_length=sent_length))\n",
    "model.add(LSTM(100))\n",
    "model.add(Dense(1,activation='sigmoid'))\n",
    "model.compile(loss='binary_crossentropy',optimizer='adam',metrics=['accuracy'])\n",
    "print(model.summary())"
   ]
  },
  {
   "cell_type": "code",
   "execution_count": 30,
   "metadata": {},
   "outputs": [
    {
     "name": "stdout",
     "output_type": "stream",
     "text": [
      "Model: \"sequential_1\"\n",
      "_________________________________________________________________\n",
      "Layer (type)                 Output Shape              Param #   \n",
      "=================================================================\n",
      "embedding_1 (Embedding)      (None, 20, 40)            40000     \n",
      "_________________________________________________________________\n",
      "bidirectional (Bidirectional (None, 200)               112800    \n",
      "_________________________________________________________________\n",
      "dropout (Dropout)            (None, 200)               0         \n",
      "_________________________________________________________________\n",
      "dense_1 (Dense)              (None, 1)                 201       \n",
      "=================================================================\n",
      "Total params: 153,001\n",
      "Trainable params: 153,001\n",
      "Non-trainable params: 0\n",
      "_________________________________________________________________\n",
      "None\n"
     ]
    }
   ],
   "source": [
    "## Creating model\n",
    "embedding_vector_features=40\n",
    "model1=Sequential()\n",
    "model1.add(Embedding(voc_size,embedding_vector_features,input_length=sent_length))\n",
    "model1.add(Bidirectional(LSTM(100)))\n",
    "model1.add(Dropout(0.3))\n",
    "model1.add(Dense(1,activation='sigmoid'))\n",
    "model1.compile(loss='binary_crossentropy',optimizer='adam',metrics=['accuracy'])\n",
    "print(model1.summary())"
   ]
  },
  {
   "cell_type": "code",
   "execution_count": 31,
   "metadata": {},
   "outputs": [
    {
     "data": {
      "text/plain": [
       "(5572, (5572,))"
      ]
     },
     "execution_count": 31,
     "metadata": {},
     "output_type": "execute_result"
    }
   ],
   "source": [
    "len(embedded_docs),y.shape"
   ]
  },
  {
   "cell_type": "code",
   "execution_count": 32,
   "metadata": {},
   "outputs": [],
   "source": [
    "from sklearn.preprocessing import LabelEncoder\n",
    "lb_enc = LabelEncoder()\n",
    "y = lb_enc.fit_transform(df[\"label\"])"
   ]
  },
  {
   "cell_type": "code",
   "execution_count": 33,
   "metadata": {},
   "outputs": [
    {
     "data": {
      "text/plain": [
       "array([0, 0, 1, ..., 0, 0, 0])"
      ]
     },
     "execution_count": 33,
     "metadata": {},
     "output_type": "execute_result"
    }
   ],
   "source": [
    "y"
   ]
  },
  {
   "cell_type": "code",
   "execution_count": 34,
   "metadata": {},
   "outputs": [],
   "source": [
    "import numpy as np\n",
    "X_final=np.array(embedded_docs)\n",
    "y_final=np.array(y)"
   ]
  },
  {
   "cell_type": "code",
   "execution_count": 35,
   "metadata": {},
   "outputs": [
    {
     "data": {
      "text/plain": [
       "((5572, 20), (5572,))"
      ]
     },
     "execution_count": 35,
     "metadata": {},
     "output_type": "execute_result"
    }
   ],
   "source": [
    "X_final.shape,y_final.shape"
   ]
  },
  {
   "cell_type": "code",
   "execution_count": 36,
   "metadata": {},
   "outputs": [],
   "source": [
    "from sklearn.model_selection import train_test_split\n",
    "X_train, X_test, y_train, y_test = train_test_split(X_final, y_final, test_size=0.33, random_state=42)"
   ]
  },
  {
   "cell_type": "markdown",
   "metadata": {},
   "source": [
    "### Model Training"
   ]
  },
  {
   "cell_type": "code",
   "execution_count": 37,
   "metadata": {},
   "outputs": [
    {
     "name": "stdout",
     "output_type": "stream",
     "text": [
      "Epoch 1/10\n",
      "59/59 [==============================] - 5s 80ms/step - loss: 0.2874 - accuracy: 0.8920 - val_loss: 0.1244 - val_accuracy: 0.9663\n",
      "Epoch 2/10\n",
      "59/59 [==============================] - 3s 43ms/step - loss: 0.0802 - accuracy: 0.9783 - val_loss: 0.1059 - val_accuracy: 0.9706\n",
      "Epoch 3/10\n",
      "59/59 [==============================] - 2s 41ms/step - loss: 0.0407 - accuracy: 0.9885 - val_loss: 0.1206 - val_accuracy: 0.9679\n",
      "Epoch 4/10\n",
      "59/59 [==============================] - 2s 38ms/step - loss: 0.0261 - accuracy: 0.9936 - val_loss: 0.1461 - val_accuracy: 0.9668\n",
      "Epoch 5/10\n",
      "59/59 [==============================] - 2s 33ms/step - loss: 0.0148 - accuracy: 0.9962 - val_loss: 0.1580 - val_accuracy: 0.9690\n",
      "Epoch 6/10\n",
      "59/59 [==============================] - 2s 35ms/step - loss: 0.0079 - accuracy: 0.9976 - val_loss: 0.1718 - val_accuracy: 0.9641\n",
      "Epoch 7/10\n",
      "59/59 [==============================] - 2s 34ms/step - loss: 0.0056 - accuracy: 0.9987 - val_loss: 0.2004 - val_accuracy: 0.9630\n",
      "Epoch 8/10\n",
      "59/59 [==============================] - 2s 32ms/step - loss: 0.0036 - accuracy: 0.9992 - val_loss: 0.2213 - val_accuracy: 0.9598\n",
      "Epoch 9/10\n",
      "59/59 [==============================] - 2s 30ms/step - loss: 6.0919e-04 - accuracy: 1.0000 - val_loss: 0.2525 - val_accuracy: 0.9619\n",
      "Epoch 10/10\n",
      "59/59 [==============================] - 2s 29ms/step - loss: 0.0027 - accuracy: 0.9989 - val_loss: 0.1663 - val_accuracy: 0.9679\n"
     ]
    }
   ],
   "source": [
    "### Finally Training\n",
    "history = model1.fit(X_train,y_train,validation_data=(X_test,y_test),epochs=10,batch_size=64)"
   ]
  },
  {
   "cell_type": "markdown",
   "metadata": {},
   "source": [
    "### Performance Metrics And Accuracy"
   ]
  },
  {
   "cell_type": "code",
   "execution_count": 38,
   "metadata": {},
   "outputs": [
    {
     "name": "stdout",
     "output_type": "stream",
     "text": [
      "WARNING:tensorflow:From <ipython-input-38-47bd574b5585>:1: Sequential.predict_classes (from tensorflow.python.keras.engine.sequential) is deprecated and will be removed after 2021-01-01.\n",
      "Instructions for updating:\n",
      "Please use instead:* `np.argmax(model.predict(x), axis=-1)`,   if your model does multi-class classification   (e.g. if it uses a `softmax` last-layer activation).* `(model.predict(x) > 0.5).astype(\"int32\")`,   if your model does binary classification   (e.g. if it uses a `sigmoid` last-layer activation).\n"
     ]
    }
   ],
   "source": [
    "y_pred= model1.predict_classes(X_test)"
   ]
  },
  {
   "cell_type": "code",
   "execution_count": 39,
   "metadata": {},
   "outputs": [
    {
     "data": {
      "text/plain": [
       "0.9679173463839043"
      ]
     },
     "execution_count": 39,
     "metadata": {},
     "output_type": "execute_result"
    }
   ],
   "source": [
    "from sklearn.metrics import accuracy_score\n",
    "accuracy_score(y_test,y_pred)"
   ]
  },
  {
   "cell_type": "code",
   "execution_count": 46,
   "metadata": {},
   "outputs": [
    {
     "name": "stdout",
     "output_type": "stream",
     "text": [
      "              precision    recall  f1-score   support\n",
      "\n",
      "           0       0.98      0.99      0.98      1587\n",
      "           1       0.91      0.85      0.88       252\n",
      "\n",
      "    accuracy                           0.97      1839\n",
      "   macro avg       0.94      0.92      0.93      1839\n",
      "weighted avg       0.97      0.97      0.97      1839\n",
      "\n"
     ]
    }
   ],
   "source": [
    " from sklearn.metrics import classification_report, confusion_matrix\n",
    "import numpy as np\n",
    "#target_names = ['label','Tweet']\n",
    "print(classification_report(y_test, y_pred))"
   ]
  },
  {
   "cell_type": "code",
   "execution_count": 48,
   "metadata": {},
   "outputs": [],
   "source": [
    "history.history??"
   ]
  },
  {
   "cell_type": "code",
   "execution_count": 47,
   "metadata": {},
   "outputs": [
    {
     "data": {
      "text/plain": [
       "dict_keys(['loss', 'accuracy', 'val_loss', 'val_accuracy'])"
      ]
     },
     "execution_count": 47,
     "metadata": {},
     "output_type": "execute_result"
    }
   ],
   "source": [
    "history.history.keys()"
   ]
  },
  {
   "cell_type": "code",
   "execution_count": 53,
   "metadata": {},
   "outputs": [
    {
     "data": {
      "image/png": "[encoded data removed]",
      "text/plain": [
       "<Figure size 432x288 with 1 Axes>"
      ]
     },
     "metadata": {
      "needs_background": "light"
     },
     "output_type": "display_data"
    }
   ],
   "source": [
    "import matplotlib.pyplot as plt\n",
    "loss_train = history.history['accuracy']\n",
    "loss_val = history.history['val_accuracy']\n",
    "epoch = range(1,11)\n",
    "plt.plot(epoch, loss_train, 'g', label='Training accuracy')\n",
    "plt.plot(epoch, loss_val, 'b', label='validation accuracy')\n",
    "plt.title('Training and Validation accuracy')\n",
    "plt.xlabel('Epochs')\n",
    "plt.ylabel('Accuracy')\n",
    "plt.legend()\n",
    "plt.show()"
   ]
  },
  {
   "cell_type": "code",
   "execution_count": 51,
   "metadata": {},
   "outputs": [
    {
     "data": {
      "image/png": "[encoded data removed]",
      "text/plain": [
       "<Figure size 432x288 with 1 Axes>"
      ]
     },
     "metadata": {
      "needs_background": "light"
     },
     "output_type": "display_data"
    }
   ],
   "source": [
    "loss_train = history.history['loss']\n",
    "loss_val = history.history['val_loss']\n",
    "epochs = range(1,11)\n",
    "plt.plot(epochs, loss_train, 'g', label='Training loss')\n",
    "plt.plot(epochs, loss_val, 'b', label='validation loss')\n",
    "plt.title('Training and Validation loss')\n",
    "plt.xlabel('Epochs')\n",
    "plt.ylabel('Loss')\n",
    "plt.legend()\n",
    "plt.show()"
   ]
  },
  {
   "cell_type": "code",
   "execution_count": 38,
   "metadata": {},
   "outputs": [],
   "source": [
    "model1.save(\"model3.h5\")"
   ]
  },
  {
   "cell_type": "code",
   "execution_count": 36,
   "metadata": {},
   "outputs": [],
   "source": [
    "def predict_spam(text):\n",
    "    result = process(text)\n",
    "    onehot_repr=one_hot(result,voc_size)\n",
    "    print(type(onehot_repr))\n",
    "    list1 = []\n",
    "    list1.append(onehot_repr)\n",
    "    print(list1)\n",
    "    sent_length=20\n",
    "    embedded_docs=pad_sequences(list1,padding='pre',maxlen=sent_length)\n",
    "    print(embedded_docs)\n",
    "    prob = model1.predict(embedded_docs)\n",
    "    print(prob)\n",
    "    if prob > 0.95:\n",
    "        return print(\"\\n\\nBiLSTM Prediction: Real News\")\n",
    "    else:\n",
    "        return print(\"\\n\\nBiLSTM Prediction: Fake News\")"
   ]
  },
  {
   "cell_type": "code",
   "execution_count": 37,
   "metadata": {},
   "outputs": [
    {
     "name": "stdout",
     "output_type": "stream",
     "text": [
      "Free entry in 2 a wkly comp to win FA Cup final tkts 21st May 2005. Text FA to 87121 to receive entry question(std txt rate)T&C's apply 08452810075over18's\n",
      "<class 'list'>\n",
      "[[316, 739, 823, 778, 9, 77, 736, 168, 128, 496, 911, 22, 77, 486, 739, 378, 647, 461, 48, 79]]\n",
      "[[316 739 823 778   9  77 736 168 128 496 911  22  77 486 739 378 647 461\n",
      "   48  79]]\n",
      "[[0.99973387]]\n",
      "\n",
      "\n",
      "BiLSTM Prediction: Real News\n"
     ]
    }
   ],
   "source": [
    "text = str(input())\n",
    "predict_spam(text)"
   ]
  }
 ],
 "metadata": {
  "kernelspec": {
   "display_name": "Python 3",
   "language": "python",
   "name": "python3"
  },
  "language_info": {
   "codemirror_mode": {
    "name": "ipython",
    "version": 3
   },
   "file_extension": ".py",
   "mimetype": "text/x-python",
   "name": "python",
   "nbconvert_exporter": "python",
   "pygments_lexer": "ipython3",
   "version": "3.8.5"
  }
 },
 "nbformat": 4,
 "nbformat_minor": 2
}
